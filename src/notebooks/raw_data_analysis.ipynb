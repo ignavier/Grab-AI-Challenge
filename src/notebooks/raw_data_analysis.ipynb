{
 "cells": [
  {
   "cell_type": "markdown",
   "metadata": {},
   "source": [
    "# Exploratory analysis on raw data"
   ]
  },
  {
   "cell_type": "code",
   "execution_count": 1,
   "metadata": {},
   "outputs": [],
   "source": [
    "import matplotlib.pyplot as plt\n",
    "\n",
    "from helpers.data_utils import load_raw_data"
   ]
  },
  {
   "cell_type": "code",
   "execution_count": 2,
   "metadata": {},
   "outputs": [
    {
     "name": "stderr",
     "output_type": "stream",
     "text": [
      "/home/u24028/.local/lib/python3.6/site-packages/numpy/lib/arraysetops.py:518: FutureWarning: elementwise comparison failed; returning scalar instead, but in the future will perform elementwise comparison\n",
      "  mask |= (ar1 == a)\n"
     ]
    }
   ],
   "source": [
    "data_df = load_raw_data('data_loader/data/')"
   ]
  },
  {
   "cell_type": "code",
   "execution_count": 3,
   "metadata": {},
   "outputs": [
    {
     "data": {
      "text/html": [
       "<div>\n",
       "<style scoped>\n",
       "    .dataframe tbody tr th:only-of-type {\n",
       "        vertical-align: middle;\n",
       "    }\n",
       "\n",
       "    .dataframe tbody tr th {\n",
       "        vertical-align: top;\n",
       "    }\n",
       "\n",
       "    .dataframe thead th {\n",
       "        text-align: right;\n",
       "    }\n",
       "</style>\n",
       "<table border=\"1\" class=\"dataframe\">\n",
       "  <thead>\n",
       "    <tr style=\"text-align: right;\">\n",
       "      <th></th>\n",
       "      <th>geohash6</th>\n",
       "      <th>day</th>\n",
       "      <th>timestamp</th>\n",
       "      <th>demand</th>\n",
       "    </tr>\n",
       "  </thead>\n",
       "  <tbody>\n",
       "    <tr>\n",
       "      <th>0</th>\n",
       "      <td>qp03wc</td>\n",
       "      <td>18</td>\n",
       "      <td>20:0</td>\n",
       "      <td>0.020072</td>\n",
       "    </tr>\n",
       "    <tr>\n",
       "      <th>1</th>\n",
       "      <td>qp03pn</td>\n",
       "      <td>10</td>\n",
       "      <td>14:30</td>\n",
       "      <td>0.024721</td>\n",
       "    </tr>\n",
       "    <tr>\n",
       "      <th>2</th>\n",
       "      <td>qp09sw</td>\n",
       "      <td>9</td>\n",
       "      <td>6:15</td>\n",
       "      <td>0.102821</td>\n",
       "    </tr>\n",
       "    <tr>\n",
       "      <th>3</th>\n",
       "      <td>qp0991</td>\n",
       "      <td>32</td>\n",
       "      <td>5:0</td>\n",
       "      <td>0.088755</td>\n",
       "    </tr>\n",
       "    <tr>\n",
       "      <th>4</th>\n",
       "      <td>qp090q</td>\n",
       "      <td>15</td>\n",
       "      <td>4:0</td>\n",
       "      <td>0.074468</td>\n",
       "    </tr>\n",
       "  </tbody>\n",
       "</table>\n",
       "</div>"
      ],
      "text/plain": [
       "  geohash6  day timestamp    demand\n",
       "0   qp03wc   18      20:0  0.020072\n",
       "1   qp03pn   10     14:30  0.024721\n",
       "2   qp09sw    9      6:15  0.102821\n",
       "3   qp0991   32       5:0  0.088755\n",
       "4   qp090q   15       4:0  0.074468"
      ]
     },
     "execution_count": 3,
     "metadata": {},
     "output_type": "execute_result"
    }
   ],
   "source": [
    "data_df.head()"
   ]
  },
  {
   "cell_type": "code",
   "execution_count": 4,
   "metadata": {},
   "outputs": [
    {
     "data": {
      "text/plain": [
       "5       1\n",
       "118     2\n",
       "61      3\n",
       "9       4\n",
       "55      5\n",
       "17      6\n",
       "48      7\n",
       "221     8\n",
       "2       9\n",
       "1      10\n",
       "37     11\n",
       "59     12\n",
       "139    13\n",
       "15     14\n",
       "4      15\n",
       "54     16\n",
       "19     17\n",
       "0      18\n",
       "119    19\n",
       "32     20\n",
       "23     21\n",
       "86     22\n",
       "93     23\n",
       "188    24\n",
       "6      25\n",
       "72     26\n",
       "16     27\n",
       "33     28\n",
       "99     29\n",
       "34     30\n",
       "       ..\n",
       "3      32\n",
       "79     33\n",
       "13     34\n",
       "68     35\n",
       "39     36\n",
       "105    37\n",
       "65     38\n",
       "43     39\n",
       "14     40\n",
       "67     41\n",
       "179    42\n",
       "49     43\n",
       "101    44\n",
       "10     45\n",
       "12     46\n",
       "131    47\n",
       "8      48\n",
       "38     49\n",
       "71     50\n",
       "7      51\n",
       "11     52\n",
       "25     53\n",
       "129    54\n",
       "87     55\n",
       "20     56\n",
       "22     57\n",
       "154    58\n",
       "125    59\n",
       "70     60\n",
       "77     61\n",
       "Name: day, Length: 61, dtype: int64"
      ]
     },
     "execution_count": 4,
     "metadata": {},
     "output_type": "execute_result"
    }
   ],
   "source": [
    "num_days = len(data_df['day'].drop_duplicates())\n",
    "data_df['day'].drop_duplicates().sort_values()"
   ]
  },
  {
   "cell_type": "code",
   "execution_count": 5,
   "metadata": {
    "scrolled": false
   },
   "outputs": [
    {
     "data": {
      "text/plain": [
       "388      0:0\n",
       "29      0:15\n",
       "61      0:30\n",
       "91      0:45\n",
       "20      10:0\n",
       "220    10:15\n",
       "70     10:30\n",
       "136    10:45\n",
       "21      11:0\n",
       "48     11:15\n",
       "18     11:30\n",
       "11     11:45\n",
       "33      12:0\n",
       "5      12:15\n",
       "32     12:30\n",
       "94     12:45\n",
       "24      13:0\n",
       "109    13:15\n",
       "62     13:30\n",
       "93     13:45\n",
       "108     14:0\n",
       "35     14:15\n",
       "1      14:30\n",
       "13     14:45\n",
       "56      15:0\n",
       "248    15:15\n",
       "26     15:30\n",
       "116    15:45\n",
       "50      16:0\n",
       "133    16:15\n",
       "       ...  \n",
       "14      2:30\n",
       "101     2:45\n",
       "55       3:0\n",
       "40      3:15\n",
       "6       3:30\n",
       "224     3:45\n",
       "4        4:0\n",
       "27      4:15\n",
       "25      4:30\n",
       "31      4:45\n",
       "3        5:0\n",
       "38      5:15\n",
       "66      5:30\n",
       "74      5:45\n",
       "23       6:0\n",
       "2       6:15\n",
       "75      6:30\n",
       "165     6:45\n",
       "52       7:0\n",
       "141     7:15\n",
       "145     7:30\n",
       "210     7:45\n",
       "47       8:0\n",
       "183     8:15\n",
       "237     8:30\n",
       "119     8:45\n",
       "28       9:0\n",
       "10      9:15\n",
       "37      9:30\n",
       "67      9:45\n",
       "Name: timestamp, Length: 96, dtype: object"
      ]
     },
     "execution_count": 5,
     "metadata": {},
     "output_type": "execute_result"
    }
   ],
   "source": [
    "num_timestamp = len(data_df['timestamp'].drop_duplicates())\n",
    "data_df['timestamp'].drop_duplicates().sort_values()"
   ]
  },
  {
   "cell_type": "code",
   "execution_count": 6,
   "metadata": {
    "scrolled": false
   },
   "outputs": [
    {
     "data": {
      "text/plain": [
       "0          qp03wc\n",
       "1          qp03pn\n",
       "2          qp09sw\n",
       "3          qp0991\n",
       "4          qp090q\n",
       "5          qp03tu\n",
       "6          qp096d\n",
       "7          qp03nr\n",
       "8          qp093r\n",
       "9          qp03r2\n",
       "10         qp09kb\n",
       "11         qp03rp\n",
       "12         qp03w9\n",
       "13         qp096m\n",
       "14         qp091u\n",
       "15         qp03md\n",
       "16         qp099z\n",
       "17         qp0990\n",
       "18         qp03mf\n",
       "19         qp09fu\n",
       "20         qp091w\n",
       "21         qp0dhw\n",
       "23         qp09fh\n",
       "24         qp0961\n",
       "25         qp03zr\n",
       "26         qp09de\n",
       "27         qp09g8\n",
       "28         qp0d0k\n",
       "29         qp09m0\n",
       "30         qp03yx\n",
       "            ...  \n",
       "470161     qp0931\n",
       "470668     qp09n1\n",
       "493085     qp03y5\n",
       "563629     qp02yv\n",
       "568413     qp09mv\n",
       "571582     qp09by\n",
       "590455     qp09n0\n",
       "612432     qp09my\n",
       "613551     qp08g5\n",
       "619389     qp02yu\n",
       "676952     qp09dy\n",
       "678128     qp0d5k\n",
       "744535     qp0d5s\n",
       "964155     qp09kg\n",
       "1002508    qp09m7\n",
       "1225173    qp09s0\n",
       "1239036    qp09n5\n",
       "1295843    qp09w1\n",
       "1572604    qp09nj\n",
       "1835482    qp09dz\n",
       "2163134    qp093h\n",
       "2299035    qp08fs\n",
       "2702980    qp0919\n",
       "2752178    qp091j\n",
       "3124320    qp09s5\n",
       "3564718    qp092b\n",
       "3692545    qp0d4m\n",
       "3703790    qp03yn\n",
       "3714443    qp09v9\n",
       "4131857    qp0d45\n",
       "Name: geohash6, Length: 1329, dtype: object"
      ]
     },
     "execution_count": 6,
     "metadata": {},
     "output_type": "execute_result"
    }
   ],
   "source": [
    "num_geohash = len(data_df['geohash6'].drop_duplicates())\n",
    "data_df['geohash6'].drop_duplicates()"
   ]
  },
  {
   "cell_type": "code",
   "execution_count": 7,
   "metadata": {},
   "outputs": [
    {
     "name": "stdout",
     "output_type": "stream",
     "text": [
      "Number of total entries (including zero demand): 7782624\n",
      "Number of total entries (excluding zero demand): 4206321\n",
      "Number of entries with zero demand: 3576303\n"
     ]
    }
   ],
   "source": [
    "num_total = num_days * num_timestamp * num_geohash\n",
    "print('Number of total entries (including zero demand): {}'.format(num_total))\n",
    "print('Number of total entries (excluding zero demand): {}'.format(len(data_df)))\n",
    "print('Number of entries with zero demand: {}'.format(num_total - len(data_df)))"
   ]
  },
  {
   "cell_type": "code",
   "execution_count": 8,
   "metadata": {},
   "outputs": [
    {
     "data": {
      "image/png": "[encoded data removed]",
      "text/plain": [
       "<Figure size 432x288 with 1 Axes>"
      ]
     },
     "metadata": {},
     "output_type": "display_data"
    }
   ],
   "source": [
    "plt.hist(data_df['demand'].tolist(), bins=50)\n",
    "plt.show()"
   ]
  }
 ],
 "metadata": {
  "kernelspec": {
   "display_name": "Python 3 (Intel, 2019 update 2)",
   "language": "python",
   "name": "c009-intel_distribution_of_python_3_2019u2"
  },
  "language_info": {
   "codemirror_mode": {
    "name": "ipython",
    "version": 3
   },
   "file_extension": ".py",
   "mimetype": "text/x-python",
   "name": "python",
   "nbconvert_exporter": "python",
   "pygments_lexer": "ipython3",
   "version": "3.6.8"
  }
 },
 "nbformat": 4,
 "nbformat_minor": 2
}
